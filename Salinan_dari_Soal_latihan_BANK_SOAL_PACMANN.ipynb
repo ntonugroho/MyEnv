{
  "nbformat": 4,
  "nbformat_minor": 0,
  "metadata": {
    "colab": {
      "provenance": []
    },
    "kernelspec": {
      "name": "python3",
      "display_name": "Python 3"
    },
    "language_info": {
      "name": "python"
    }
  },
  "cells": [
    {
      "cell_type": "code",
      "execution_count": null,
      "metadata": {
        "colab": {
          "base_uri": "https://localhost:8080/"
        },
        "id": "2BzJqCP0B7Ec",
        "outputId": "8b79a0f9-391e-4e2b-98f4-2dbe148082e7"
      },
      "outputs": [
        {
          "output_type": "stream",
          "name": "stdout",
          "text": [
            "Average Costumer Acquisition Cost: 58.89\n"
          ]
        }
      ],
      "source": [
        "# Your code here\n",
        "marketing_spend_campaign1 = 10000\n",
        "new_customers_campaign1 = 200\n",
        "marketing_spend_campaign2 = 15000\n",
        "new_customers_campaign2 = 250\n",
        "marketing_spend_campaign3 = 20000\n",
        "new_customers_campaign3 = 300\n",
        "\n",
        "#campaign1\n",
        "cac1 = marketing_spend_campaign1 / new_customers_campaign1\n",
        "cac2 = marketing_spend_campaign2 / new_customers_campaign2\n",
        "cac3 = marketing_spend_campaign3 / new_customers_campaign3\n",
        "\n",
        "cac_values = [cac1,cac2,cac3]\n",
        "avg_cac = round(sum(cac_values) / len(cac_values),2)\n",
        "\n",
        "print(f\"Average Costumer Acquisition Cost: {avg_cac}\")"
      ]
    },
    {
      "cell_type": "code",
      "source": [
        "# Your code here\n",
        "current_total_visitors = 5000\n",
        "current_total_purchases = 250\n",
        "previous_total_visitors = 4000\n",
        "previous_total_purchases = 200\n",
        "\n",
        "current_conversion_rate = round(((current_total_purchases / current_total_visitors) * 100), 1)\n",
        "previous_conversion_rate = round(((previous_total_purchases / previous_total_visitors) * 100), 1)\n",
        "conversion_rate_increase = round((current_conversion_rate - previous_conversion_rate), 1)\n",
        "\n",
        "print(f\"Current Conversion Rate: {current_conversion_rate}%\")\n",
        "print(f\"Previous Conversion Rate: {previous_conversion_rate}%\")\n",
        "print(f\"Conversion Rate Increase: {conversion_rate_increase}%\")"
      ],
      "metadata": {
        "id": "cPZRwwkI8THU"
      },
      "execution_count": null,
      "outputs": []
    },
    {
      "cell_type": "code",
      "source": [
        "# Data input\n",
        "total_packages = 1300\n",
        "truck_per_day = 8\n",
        "packages_per_truck = 100\n",
        "\n",
        "# Hitung jumlah paket yang bisa dikirim hari ini\n",
        "packages_today = truck_per_day * packages_per_truck\n",
        "\n",
        "# Hitung jumlah paket yang tersisa untuk dikirim besok\n",
        "left_package = total_packages - packages_today\n",
        "\n",
        "# Cetak hasil\n",
        "print(f\"Package to be sent tomorrow: {left_package}\")\n"
      ],
      "metadata": {
        "colab": {
          "base_uri": "https://localhost:8080/"
        },
        "id": "xS5ZQC6tHRoA",
        "outputId": "86dc44b0-7c15-4a61-e8be-ff32625fbfd0"
      },
      "execution_count": null,
      "outputs": [
        {
          "output_type": "stream",
          "name": "stdout",
          "text": [
            "Package to be sent tomorrow: 500\n"
          ]
        }
      ]
    },
    {
      "cell_type": "code",
      "source": [
        "# Your code here\n",
        "#initial_investment = 15000 # Corrected variable assignment\n",
        "#return_amount = 20000 # Corrected variable assignment\n",
        "\n",
        "#roi_1 = ((return_amount - initial_investment)/initial_investment) *100\n",
        "#roi = round(roi_1,2)\n",
        "#print(f\"Return on Investment: {roi}%\")\n",
        "\n",
        "# Your code here\n",
        "initial_investment= 15000\n",
        "return_amount= 20000\n",
        "\n",
        "roi = round((((return_amount - initial_investment)/initial_investment) *100),2)\n",
        "print(f\"Return on Investment: {roi}%\")"
      ],
      "metadata": {
        "colab": {
          "base_uri": "https://localhost:8080/"
        },
        "id": "FkQZgTsmLHQL",
        "outputId": "94de6bf7-0914-4f80-9742-cc715de67aa9"
      },
      "execution_count": null,
      "outputs": [
        {
          "output_type": "stream",
          "name": "stdout",
          "text": [
            "Return on Investment: 33.33%\n"
          ]
        }
      ]
    },
    {
      "cell_type": "code",
      "source": [
        "# Your code here\n",
        "promoters = 150\n",
        "detractors = 50\n",
        "total_respondents = 300\n",
        "\n",
        "percent_promoters = (promoters/total_respondents)*100\n",
        "percent_detractors = (detractors/total_respondents)*100\n",
        "\n",
        "nps = round((percent_promoters-percent_detractors),2)\n",
        "print(f\"Net Promoter Score: {nps}\")"
      ],
      "metadata": {
        "colab": {
          "base_uri": "https://localhost:8080/"
        },
        "id": "nG-ld5RGNEpi",
        "outputId": "d53eb37f-be63-4a23-8fe5-f9a0184b313c"
      },
      "execution_count": null,
      "outputs": [
        {
          "output_type": "stream",
          "name": "stdout",
          "text": [
            "Net Promoter Score: 33.33\n"
          ]
        }
      ]
    },
    {
      "cell_type": "code",
      "source": [
        "# Don't change code below\n",
        "total_items = 20\n",
        "total_value = 625000\n",
        "\n",
        "# Your code here\n",
        "eligible_for_discount = total_items > 10 or total_value > 1000000\n",
        "\n",
        "print(f\"Number of products: {total_items}\")\n",
        "print(f\"Total purchase value: Rp {total_value}\")\n",
        "print(f\"Eligible for discount: {eligible_for_discount}\")"
      ],
      "metadata": {
        "colab": {
          "base_uri": "https://localhost:8080/"
        },
        "id": "yt41P91FOopn",
        "outputId": "7f809369-da17-4e70-de55-3a972dd01b96"
      },
      "execution_count": null,
      "outputs": [
        {
          "output_type": "stream",
          "name": "stdout",
          "text": [
            "Number of products: 20\n",
            "Total purchase value: Rp 625000\n",
            "Eligible for discount: True\n"
          ]
        }
      ]
    },
    {
      "cell_type": "code",
      "source": [
        "# Don't change code below\n",
        "credit_score = 750\n",
        "annual_income = 305000000\n",
        "monthly_debt_payments = 10000000\n",
        "loan_amount_requested = 20000000\n",
        "\n",
        "# Your code here\n",
        "monthly_income = annual_income / 12\n",
        "dti = round(((monthly_debt_payments/monthly_income)*100),1)\n",
        "loan_approved = credit_score > 700 and annual_income > 30000000 and dti <= 40 and loan_amount_requested <= (30/100) * annual_income\n",
        "\n",
        "print(f\"Credit score: {credit_score}\")\n",
        "print(f\"Annual income: Rp {annual_income}\")\n",
        "print(f\"Monthly debt payments: Rp {monthly_debt_payments}\")\n",
        "print(f\"Loan amount requested: Rp {loan_amount_requested}\")\n",
        "print(f\"Debt-to-income ratio: {dti}%\")\n",
        "print(f\"Loan approved: {loan_approved}\")\n"
      ],
      "metadata": {
        "id": "thvlsq5BSVeb",
        "colab": {
          "base_uri": "https://localhost:8080/"
        },
        "outputId": "5ff8a1d5-309e-459b-f8ce-84c56e939b66"
      },
      "execution_count": null,
      "outputs": [
        {
          "output_type": "stream",
          "name": "stdout",
          "text": [
            "Credit score: 750\n",
            "Annual income: Rp 305000000\n",
            "Monthly debt payments: Rp 10000000\n",
            "Loan amount requested: Rp 20000000\n",
            "Debt-to-income ratio: 39.3%\n",
            "Loan approved: True\n"
          ]
        }
      ]
    },
    {
      "cell_type": "code",
      "source": [
        "# 1️⃣ Definisi Variabel\n",
        "phone_number = \"62-812-348-9721\"\n",
        "\n",
        "# 2️⃣ Normalisasi Nomor Telepon (hapus spasi, tanda +, dan -)\n",
        "phone_number = phone_number.replace(\" \", \"\").replace(\"+\", \"\").replace(\"-\", \"\")\n",
        "\n",
        "# 3️⃣ Ubah \"62\" menjadi \"0\" jika ada di awal\n",
        "if phone_number.startswith(\"62\"):\n",
        "    normalized_number = \"0\" + phone_number[2:]\n",
        "else:\n",
        "    normalized_number = phone_number\n",
        "\n",
        "# 4️⃣ Validasi Nomor Telepon\n",
        "is_valid = normalized_number.startswith(\"08\") and 10 <= len(normalized_number) <= 13\n",
        "\n",
        "# 5️⃣ Jika tidak valid, set classification ke None\n",
        "if not is_valid:\n",
        "    classification = None\n",
        "else:\n",
        "    # 6️⃣ Klasifikasi Nomor (Prepaid atau Postpaid)\n",
        "    if len(normalized_number) in [11, 13]:\n",
        "        classification = \"Prepaid\"\n",
        "    elif len(normalized_number) in [10, 12]:\n",
        "        classification = \"Postpaid\"\n",
        "    else:\n",
        "        classification = None  # Just in case\n",
        "\n",
        "# 7️⃣ Cetak Hasil\n",
        "print(f\"Normalized Number: {normalized_number}\")\n",
        "print(f\"Is Valid: {is_valid}\")\n",
        "print(f\"Classification: {classification}\")\n"
      ],
      "metadata": {
        "id": "qQUr2FqdreVF",
        "outputId": "e3adb9aa-5005-46dc-d845-703de9d68eb7",
        "colab": {
          "base_uri": "https://localhost:8080/"
        }
      },
      "execution_count": null,
      "outputs": [
        {
          "output_type": "stream",
          "name": "stdout",
          "text": [
            "Normalized Number: 08123489721\n",
            "Is Valid: True\n",
            "Classification: Prepaid\n"
          ]
        }
      ]
    },
    {
      "cell_type": "code",
      "source": [
        "def clean_email_addresses(emails):\n",
        "    valid_tlds = {\".com\", \".org\", \".net\"}  # Set ekstensi domain yang valid\n",
        "    cleaned_emails = []  # List untuk menyimpan email yang valid\n",
        "\n",
        "    for email in emails:\n",
        "        email = email.strip().lower()  # Menghapus spasi di awal/akhir dan mengonversi ke huruf kecil\n",
        "\n",
        "        if \"@\" not in email or email.count(\"@\") != 1:\n",
        "            continue  # Lewati email jika tidak mengandung \"@\" atau lebih dari satu \"@\"\n",
        "\n",
        "        local_part, domain_part = email.split(\"@\", 1)  # Pisahkan bagian sebelum dan sesudah \"@\"\n",
        "\n",
        "        if \".\" not in domain_part:\n",
        "            continue  # Lewati email jika domain tidak mengandung titik (TLD)\n",
        "\n",
        "        domain_name, tld = domain_part.rsplit(\".\", 1)  # Pisahkan domain dan ekstensi (TLD)\n",
        "\n",
        "        if not domain_name.isalpha():\n",
        "            continue  # Lewati jika domain mengandung angka/simbol yang tidak valid\n",
        "\n",
        "        if f\".{tld}\" not in valid_tlds:\n",
        "            continue  # Lewati jika ekstensi domain tidak valid\n",
        "\n",
        "        cleaned_emails.append(email)  # Tambahkan email yang valid ke dalam list\n",
        "\n",
        "    return sorted(cleaned_emails)  # Kembalikan daftar email yang telah disortir\n",
        "\n",
        "\n",
        "emails = [\n",
        "    '   Alice@goalmail.com   ',\n",
        "    'bob@polyson.COM',\n",
        "    'CHARLIE@mail',\n",
        "    'dave@goalmail.net',\n",
        "    '  erliza@3dimension.com ',\n",
        "    'frizt@live.org   ',\n",
        "    'george@goalmail.connect'\n",
        "]\n",
        "\n",
        "result = clean_email_addresses(emails)\n",
        "print(result)"
      ],
      "metadata": {
        "colab": {
          "base_uri": "https://localhost:8080/"
        },
        "id": "Vr7BHoLNLkhr",
        "outputId": "65ede5e7-a115-49e5-8162-3ecef4aa4d97"
      },
      "execution_count": null,
      "outputs": [
        {
          "output_type": "stream",
          "name": "stdout",
          "text": [
            "['alice@goalmail.com', 'bob@polyson.com', 'dave@goalmail.net', 'frizt@live.org']\n"
          ]
        }
      ]
    },
    {
      "cell_type": "code",
      "source": [
        "def check_invalid_data_types(dataset, expected_types):\n",
        "    invalid_fields = set()\n",
        "\n",
        "    for row in dataset:\n",
        "        for field, expected_type in expected_types.items():\n",
        "            if field in row and not isinstance(row[field], expected_type):\n",
        "                invalid_fields.add(field)\n",
        "\n",
        "    return list(invalid_fields)\n",
        "\n",
        "dataset1 = [\n",
        "    {\"id\": 1, \"name\": \"Alice\", \"age\": 25, \"email\": \"alice@example.com\"},\n",
        "    {\"id\": 2, \"name\": None, \"age\": 30, \"email\": \"bob@example.com\"},\n",
        "    {\"id\": 3, \"name\": \"Charlie\", \"age\": \"twenty\", \"email\": \"charlie@example.com\"}\n",
        "]\n",
        "\n",
        "expected_types1 = {\n",
        "    \"id\": int,\n",
        "    \"name\": str,\n",
        "    \"age\": int,\n",
        "    \"email\": str\n",
        "}\n",
        "\n",
        "print(check_invalid_data_types(dataset1, expected_types1))"
      ],
      "metadata": {
        "id": "dI2T5-FsvzRs",
        "outputId": "60f28e99-bf76-4cd8-ef36-01812ecc05fa",
        "colab": {
          "base_uri": "https://localhost:8080/"
        }
      },
      "execution_count": null,
      "outputs": [
        {
          "output_type": "stream",
          "name": "stdout",
          "text": [
            "['age', 'name']\n"
          ]
        }
      ]
    }
  ]
}