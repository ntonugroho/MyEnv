{
  "nbformat": 4,
  "nbformat_minor": 0,
  "metadata": {
    "colab": {
      "provenance": []
    },
    "kernelspec": {
      "name": "python3",
      "display_name": "Python 3"
    },
    "language_info": {
      "name": "python"
    }
  },
  "cells": [
    {
      "cell_type": "code",
      "execution_count": null,
      "metadata": {
        "colab": {
          "base_uri": "https://localhost:8080/"
        },
        "id": "StGptR8TVR02",
        "outputId": "06f838d9-ebb2-4da6-be0a-c9e4925281a5"
      },
      "outputs": [
        {
          "output_type": "stream",
          "name": "stdout",
          "text": [
            "Name: Spicy Delight\n",
            "Cuisine: Indian\n",
            "Initial Ratings: [4.5, 4.0, 5.0]\n",
            "Offers: ['20% off on first order', 'Free delivery on orders over $30']\n",
            "Updated Ratings after adding 3.0: [4.5, 4.0, 5.0, 3.0]\n",
            "Updated Ratings after adding 4.0: [4.5, 4.0, 5.0, 3.0, 4.0]\n",
            "Average Rating: 4.1\n"
          ]
        }
      ],
      "source": [
        "#1\n",
        "class Restaurant:\n",
        "    ### YOUR CODE HERE\n",
        "    def __init__(self, name, cuisine, ratings, offers):\n",
        "        self.name = name\n",
        "        self.cuisine = cuisine\n",
        "        self.ratings = ratings\n",
        "        self.offers = offers\n",
        "\n",
        "    def add_rating(self, new_rating):\n",
        "        self.ratings.append(new_rating)\n",
        "        return self.ratings\n",
        "\n",
        "    def get_avg_ratings(self):\n",
        "        if len(self.ratings) == 0:\n",
        "            return 0\n",
        "        return sum(self.ratings) /len(self.ratings)\n",
        "\n",
        "# Don't change code below\n",
        "# Membuat objek restaurant\n",
        "restaurant_x = Restaurant(\n",
        "    name=\"Spicy Delight\",\n",
        "    cuisine=\"Indian\",\n",
        "    ratings=[4.5, 4.0, 5.0],\n",
        "    offers=[\"20% off on first order\", \"Free delivery on orders over $30\"]\n",
        ")\n",
        "\n",
        "# Print restaurant info\n",
        "print(f\"Name: {restaurant_x.name}\")\n",
        "print(f\"Cuisine: {restaurant_x.cuisine}\")\n",
        "print(f\"Initial Ratings: {restaurant_x.ratings}\")\n",
        "print(f\"Offers: {restaurant_x.offers}\")\n",
        "\n",
        "# Add new ratings and print updated ratings\n",
        "updated_ratings_1 = restaurant_x.add_rating(3.0)\n",
        "print(f\"Updated Ratings after adding 3.0: {updated_ratings_1}\")\n",
        "\n",
        "updated_ratings_2 = restaurant_x.add_rating(4.0)\n",
        "print(f\"Updated Ratings after adding 4.0: {updated_ratings_2}\")\n",
        "\n",
        "# Get average rating\n",
        "average_rating = restaurant_x.get_avg_ratings()\n",
        "print(f\"Average Rating: {average_rating:.1f}\")"
      ]
    },
    {
      "cell_type": "code",
      "source": [
        "#4\n",
        "class DataSummary:\n",
        "    def __init__(self, data):\n",
        "        self.data = data\n",
        "\n",
        "    def count(self):\n",
        "        return len(self.data)\n",
        "\n",
        "    def mean(self):\n",
        "        return sum(self.data) / len(self.data)\n",
        "\n",
        "    def min(self):\n",
        "        return min(self.data)\n",
        "\n",
        "    def median(self):\n",
        "        sorted_data = sorted(self.data)\n",
        "        mid = len(sorted_data) // 2\n",
        "        return (sorted_data[mid] if len(sorted_data) % 2 != 0\n",
        "                else (sorted_data[mid - 1] + sorted_data[mid]) / 2)\n",
        "\n",
        "    def max(self):\n",
        "        return max(self.data)\n",
        "\n",
        "# Contoh penggunaan\n",
        "data_summary = DataSummary(data=[10, 20, 30, 40, 50])\n",
        "\n",
        "# Menampilkan data\n",
        "print(f\"Data list: {data_summary.data}\")\n",
        "\n",
        "# Menampilkan ringkasan statistik\n",
        "print(f\"Count: {data_summary.count()}\")\n",
        "print(f\"Mean: {data_summary.mean()}\")\n",
        "print(f\"Minimum: {data_summary.min()}\")\n",
        "print(f\"Median: {data_summary.median()}\")\n",
        "print(f\"Maximum: {data_summary.max()}\")\n"
      ],
      "metadata": {
        "colab": {
          "base_uri": "https://localhost:8080/"
        },
        "id": "PDYH4Y0X0XWb",
        "outputId": "d86d1ae4-f5a4-4101-950e-1c4097ab0139"
      },
      "execution_count": null,
      "outputs": [
        {
          "output_type": "stream",
          "name": "stdout",
          "text": [
            "Data list: [10, 20, 30, 40, 50]\n",
            "Count: 5\n",
            "Mean: 30.0\n",
            "Minimum: 10\n",
            "Median: 30\n",
            "Maximum: 50\n"
          ]
        }
      ]
    },
    {
      "cell_type": "code",
      "source": [
        "#3\n",
        "class Task:\n",
        "    ### YOUR CODE HERE\n",
        "    def __init__(self, title, description, status, priority):\n",
        "        self.title = title\n",
        "        self.description = description\n",
        "        self.status = status\n",
        "        self.priority = priority\n",
        "\n",
        "    def update_status(self, new_status):\n",
        "        self.status = new_status\n",
        "\n",
        "        if new_status.lower () == \"completed\":\n",
        "            self.priority = 0\n",
        "            return \"Status updated to Completed.Priority set to 0\"\n",
        "        return f\"Status updated to {new_status}\"\n",
        "\n",
        "\n",
        "\n",
        "\n",
        "#3\n",
        "# Don't change code below\n",
        "# Creating a Task object\n",
        "task1 = Task(\n",
        "    title=\"Complete Project Report\",\n",
        "    description=\"Finish the final report for the project by the end of the week.\",\n",
        "    status=\"Pending\",\n",
        "    priority=1\n",
        ")\n",
        "\n",
        "# Printing all attributes of the task\n",
        "print(f\"Title: {task1.title}\")\n",
        "print(f\"Description: {task1.description}\")\n",
        "print(f\"Status: {task1.status}\")\n",
        "print(f\"Priority: {task1.priority}\")\n",
        "\n",
        "# Updating status to \"In Progress\"\n",
        "status_update_1 = task1.update_status(\"In Progress\")\n",
        "print(status_update_1)  # Output: \"Status updated to In Progress.\"\n",
        "\n",
        "# Printing all attributes after status update\n",
        "print(f\"Updated Status: {task1.status}\")\n",
        "print(f\"Updated Priority: {task1.priority}\")\n",
        "\n",
        "# Updating status to \"Completed\"\n",
        "status_update_2 = task1.update_status(\"Completed\")\n",
        "print(status_update_2)  # Output: \"Status updated to Completed. Priority set to 0.\"\n",
        "\n",
        "# Printing all attributes after status update\n",
        "print(f\"Final Status: {task1.status}\")\n",
        "print(f\"Final Priority: {task1.priority}\")"
      ],
      "metadata": {
        "id": "-BSQh_kjbWGx"
      },
      "execution_count": null,
      "outputs": []
    },
    {
      "cell_type": "code",
      "source": [
        "#5\n",
        "class CartItem:\n",
        "    def __init__(self, name, price, quantity):\n",
        "        self.name = name\n",
        "        self.price = price\n",
        "        self.quantity = quantity\n",
        "\n",
        "    def get_total_price(self):\n",
        "        return self.price * self.quantity\n",
        "\n",
        "\n",
        "class ShoppingCart:\n",
        "    def __init__(self):\n",
        "        self.items = []\n",
        "\n",
        "    def add_item(self, item):\n",
        "        self.items.append(item)\n",
        "        return f\"{item.name} added to the cart.\"\n",
        "\n",
        "    def remove_item(self, item_name):\n",
        "        for item in self.items:\n",
        "            if item.name == item_name:\n",
        "                self.items.remove(item)\n",
        "                return f\"{item_name} removed from the shopping cart.\"\n",
        "        return f\"{item_name} not found in the shopping cart.\"\n",
        "\n",
        "    def get_cart_total(self):\n",
        "        total = sum(item.get_total_price() for item in self.items)\n",
        "        return round(total, 2)\n",
        "\n",
        "\n",
        "# Don't change code below\n",
        "cart = ShoppingCart()\n",
        "\n",
        "print(f\"Initial items: {cart.items}\")\n",
        "\n",
        "item1 = CartItem(name=\"Laptop\", price=999.99, quantity=1)\n",
        "item2 = CartItem(name=\"Headphones\", price=199.99, quantity=2)\n",
        "\n",
        "add_item_message_1 = cart.add_item(item1)\n",
        "print(add_item_message_1)\n",
        "\n",
        "add_item_message_2 = cart.add_item(item2)\n",
        "print(add_item_message_2)\n",
        "\n",
        "total_price_item1 = item1.get_total_price()\n",
        "print(total_price_item1)\n",
        "\n",
        "total_price_item2 = item2.get_total_price()\n",
        "print(total_price_item2)\n",
        "\n",
        "total_cost = cart.get_cart_total()\n",
        "print(total_cost)\n",
        "\n",
        "removal_message = cart.remove_item(\"Headphones\")\n",
        "print(removal_message)\n",
        "\n",
        "total_cost = cart.get_cart_total()\n",
        "print(total_cost)\n"
      ],
      "metadata": {
        "colab": {
          "base_uri": "https://localhost:8080/"
        },
        "id": "5tUO2Q3j0gSh",
        "outputId": "8d6c3bb2-e4a3-4ec5-e16f-03e33528469c"
      },
      "execution_count": null,
      "outputs": [
        {
          "output_type": "stream",
          "name": "stdout",
          "text": [
            "Initial items: []\n",
            "Laptop added to the cart.\n",
            "Headphones added to the cart.\n",
            "999.99\n",
            "399.98\n",
            "1399.97\n",
            "Headphones removed from the shopping cart.\n",
            "999.99\n"
          ]
        }
      ]
    },
    {
      "cell_type": "code",
      "source": [
        "#9\n",
        "class RideOrder:\n",
        "    def __init__(self, order_id, customer_name, pickup_location, destination, fare):\n",
        "        self.order_id = order_id\n",
        "        self.customer_name = customer_name\n",
        "        self.pickup_location = pickup_location\n",
        "        self.destination = destination\n",
        "        self.fare = fare\n",
        "        self.status = \"Pending\"\n",
        "\n",
        "    def pick_up_order(self):\n",
        "        self.status = \"Picked Up\"\n",
        "        return f\"Order {self.order_id} picked up. Status updated to Picked Up.\"\n",
        "\n",
        "    def complete_order(self):\n",
        "        self.status = \"Completed\"\n",
        "        return f\"Order {self.order_id} completed. Status updated to Completed.\"\n",
        "\n",
        "    def process_payment(self, amount_paid):\n",
        "        if amount_paid < self.fare:\n",
        "            return f\"Payment failed: Insufficient amount.\"\n",
        "        change = amount_paid - self.fare\n",
        "        return f\"Payment of ${amount_paid} processed for Order {self.order_id}. Change: ${change}.\"\n",
        "\n",
        "\n",
        "# Contoh penggunaan\n",
        "ride_order_1 = RideOrder(\n",
        "    order_id=\"PR123\",\n",
        "    customer_name=\"Alice Johnson\",\n",
        "    pickup_location=\"Downtown\",\n",
        "    destination=\"Airport\",\n",
        "    fare=23.00)\n",
        "\n",
        "# Display initial status order\n",
        "print(f\"Order {ride_order_1.order_id} created for {ride_order_1.customer_name} from {ride_order_1.pickup_location} to {ride_order_1.destination}. Status: Pending.\")\n",
        "\n",
        "# Picking up the order\n",
        "print(ride_order_1.pick_up_order())\n",
        "\n",
        "# Completing the order\n",
        "print(ride_order_1.complete_order())\n",
        "\n",
        "# Processing payment with an amount less than the fare\n",
        "print(ride_order_1.process_payment(20.00))\n",
        "\n",
        "# Processing payment with the correct amount\n",
        "print(ride_order_1.process_payment(30.00))\n"
      ],
      "metadata": {
        "colab": {
          "base_uri": "https://localhost:8080/"
        },
        "id": "eEgNZ9qZ4jne",
        "outputId": "2190862b-1143-440f-b724-aff36f52305a"
      },
      "execution_count": null,
      "outputs": [
        {
          "output_type": "stream",
          "name": "stdout",
          "text": [
            "Order PR123 created for Alice Johnson from Downtown to Airport. Status: Pending.\n",
            "Order PR123 picked up. Status updated to Picked Up.\n",
            "Order PR123 completed. Status updated to Completed.\n",
            "Payment failed: Insufficient amount.\n",
            "Payment of $30.0 processed for Order PR123. Change: $7.0.\n"
          ]
        }
      ]
    },
    {
      "cell_type": "code",
      "source": [
        "#7\n",
        "class Employee:\n",
        "    def __init__(self, name, employee_id, base_salary):\n",
        "        self.name = name\n",
        "        self.employee_id = employee_id\n",
        "        self.base_salary = base_salary\n",
        "\n",
        "class FullTimeEmployee(Employee):\n",
        "    def __init__(self, name, employee_id, base_salary, benefits):\n",
        "        super().__init__(name, employee_id, base_salary)\n",
        "        self.benefits = benefits\n",
        "\n",
        "class PartTimeEmployee(Employee):\n",
        "    def __init__(self, name, employee_id, base_salary, hours_worked):\n",
        "        super().__init__(name, employee_id, base_salary)\n",
        "        self.hours_worked = hours_worked\n",
        "\n",
        "# Creating a full-time employee object\n",
        "full_time_employee = FullTimeEmployee(\n",
        "    name=\"Alice Smith\",\n",
        "    employee_id=\"FT123\",\n",
        "    base_salary=80000,\n",
        "    benefits=[\"Health Insurance\", \"Retirement Plan\"]\n",
        ")\n",
        "\n",
        "# Displaying full-time employee information\n",
        "print(f\"Name: {full_time_employee.name}\")\n",
        "print(f\"Employee ID: {full_time_employee.employee_id}\")\n",
        "print(f\"Base Salary: ${full_time_employee.base_salary:.2f}\")\n",
        "print(f\"Benefits: {full_time_employee.benefits}\")\n",
        "\n",
        "# Creating a part-time employee object\n",
        "part_time_employee = PartTimeEmployee(\n",
        "    name=\"Bob Johnson\",\n",
        "    employee_id=\"PT456\",\n",
        "    base_salary=40000,\n",
        "    hours_worked=20\n",
        ")\n",
        "\n",
        "# Displaying part-time employee information\n",
        "print(f\"Name: {part_time_employee.name}\")\n",
        "print(f\"Employee ID: {part_time_employee.employee_id}\")\n",
        "print(f\"Base Salary: ${part_time_employee.base_salary:.2f}\")\n",
        "print(f\"Hours Worked: {part_time_employee.hours_worked}\")\n"
      ],
      "metadata": {
        "colab": {
          "base_uri": "https://localhost:8080/"
        },
        "id": "n5M8zhrm-OmS",
        "outputId": "c18dc3db-ed74-43f3-feca-64aa56884cf9"
      },
      "execution_count": null,
      "outputs": [
        {
          "output_type": "stream",
          "name": "stdout",
          "text": [
            "Name: Alice Smith\n",
            "Employee ID: FT123\n",
            "Base Salary: $80000.00\n",
            "Benefits: ['Health Insurance', 'Retirement Plan']\n",
            "Name: Bob Johnson\n",
            "Employee ID: PT456\n",
            "Base Salary: $40000.00\n",
            "Hours Worked: 20\n"
          ]
        }
      ]
    },
    {
      "cell_type": "code",
      "source": [
        "#13\n",
        "class DataPipeline:\n",
        "    def __init__(self):  # Perbaiki dengan menambahkan `self`\n",
        "        self.raw_data = []\n",
        "        self.transformed_data = []\n",
        "\n",
        "    def ingest_data(self, data):\n",
        "        '''Ingest raw data into the pipeline.'''\n",
        "        if isinstance(data, list):  # Perbaikan pengecekan tipe\n",
        "            self.raw_data.extend(data)  # Perbaiki dengan `self.`\n",
        "        else:\n",
        "            self.raw_data.append(data)  # Perbaiki dengan `self.`\n",
        "\n",
        "    def transform_data(self):\n",
        "        '''Transform raw data into a usable format.'''\n",
        "        for entry in self.raw_data:  # Gunakan `self.raw_data`\n",
        "            transformed_entry = entry.strip().lower()\n",
        "            self.transformed_data.append(transformed_entry)  # Tutup kurung yang hilang\n",
        "\n",
        "    def load_data(self):\n",
        "        '''Load transformed data for further processing.'''\n",
        "        if not self.transformed_data:\n",
        "            return \"No data to load\"\n",
        "        return self.transformed_data\n",
        "\n",
        "# Input Data\n",
        "pipeline = DataPipeline()\n",
        "print(f'Initial Raw Data: {pipeline.raw_data}')\n",
        "print(f'Initial Transformed Data: {pipeline.transformed_data}')\n",
        "\n",
        "pipeline.ingest_data([\"  Data Entry 1  \", \"  Data Entry 2  \", \"DATA ENTRY 3\"])\n",
        "print(f'\\nRaw Data [After Ingest Data]: {pipeline.raw_data}')\n",
        "\n",
        "pipeline.transform_data()\n",
        "print(f'Transformed Data [After Transformed Data]: {pipeline.transformed_data}\\n')\n",
        "\n",
        "# Run the loading method\n",
        "loaded_data = pipeline.load_data()\n",
        "print(\"Loaded Data:\\n\", loaded_data)\n"
      ],
      "metadata": {
        "id": "TNysuc_PHB80"
      },
      "execution_count": null,
      "outputs": []
    },
    {
      "cell_type": "code",
      "source": [
        "#11\n",
        "# Function to calculate total revenue\n",
        "def calculate_revenue(transaction_list):\n",
        "    total = 0  # Pastikan total dideklarasikan di awal\n",
        "\n",
        "    for transaction in transaction_list:\n",
        "        if type(transaction['quantity']) != int:\n",
        "            transaction['quantity'] = int(transaction['quantity'])  # Konversi string ke integer\n",
        "\n",
        "        revenue = transaction['price'] * transaction['quantity']  # Perbaiki bracket\n",
        "        total += revenue  # Gunakan total yang sudah dideklarasikan\n",
        "\n",
        "    return total  # Pindahkan return ke luar loop\n",
        "\n",
        "# Input Data\n",
        "transactions = [\n",
        "    {'product_id': 'P001', 'price': 29.99, 'quantity': 3},\n",
        "    {'product_id': 'P002', 'price': 49.50, 'quantity': '2'},\n",
        "    {'product_id': 'P003', 'price': 15.75, 'quantity': 5}\n",
        "]\n",
        "\n",
        "# Run the function\n",
        "total_revenue = calculate_revenue(transactions)\n",
        "print(\"Total Revenue: $\", total_revenue)\n"
      ],
      "metadata": {
        "id": "7Prk9iKALqQE",
        "outputId": "28f6a3fd-c553-42d6-9754-ce409067ae1e",
        "colab": {
          "base_uri": "https://localhost:8080/"
        }
      },
      "execution_count": null,
      "outputs": [
        {
          "output_type": "stream",
          "name": "stdout",
          "text": [
            "Total Revenue: $ 267.72\n"
          ]
        }
      ]
    }
  ]
}